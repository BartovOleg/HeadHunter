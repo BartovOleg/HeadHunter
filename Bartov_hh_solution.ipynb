{
 "cells": [
  {
   "cell_type": "markdown",
   "metadata": {},
   "source": [
    "# Бартов Олег Борисович\n",
    "## Решение задачи по предсказанию набора специализаций для вакансии\n",
    "### 2020-07-27"
   ]
  },
  {
   "cell_type": "code",
   "execution_count": 21,
   "metadata": {},
   "outputs": [],
   "source": [
    "#стандартные библиотеки\n",
    "import pandas as pd\n",
    "import numpy as np\n",
    "\n",
    "#для загрузки данных\n",
    "import json\n",
    "import gzip\n",
    "\n",
    "#для очистки htmp-тегов\n",
    "from bs4 import BeautifulSoup\n",
    "#регулярные выражения\n",
    "import re\n",
    "#стемминг\n",
    "from nltk.stem.snowball import SnowballStemmer\n",
    "\n",
    "#прогресс выполнения\n",
    "from tqdm.notebook import tqdm\n",
    "\n",
    "#для векторайзеры\n",
    "from sklearn.feature_extraction.text import CountVectorizer, TfidfVectorizer\n",
    "\n",
    "#пакетная кластеризация KMeans\n",
    "from sklearn.cluster import MiniBatchKMeans\n",
    "\n",
    "#для мультилейбл\n",
    "from sklearn.preprocessing import MultiLabelBinarizer\n",
    "\n",
    "#бустинг\n",
    "import catboost\n",
    "#сбор мусора\n",
    "import gc\n",
    "\n",
    "#процедура для загрузки вакансий в словарь\n",
    "def read_vacancies_part(part):\n",
    "    with gzip.open(f'vacancies-{part:02}.json.gz', 'r') as fp:\n",
    "        return json.loads(fp.read())"
   ]
  },
  {
   "cell_type": "markdown",
   "metadata": {},
   "source": [
    "# №1 Предобработка данных"
   ]
  },
  {
   "cell_type": "code",
   "execution_count": 4,
   "metadata": {
    "scrolled": true
   },
   "outputs": [
    {
     "name": "stdout",
     "output_type": "stream",
     "text": [
      "Часть 1\n",
      "Всего вакансий в части: 300,000\n"
     ]
    },
    {
     "data": {
      "application/vnd.jupyter.widget-view+json": {
       "model_id": "91d90e46318b41789c2c8dc718a3e0cc",
       "version_major": 2,
       "version_minor": 0
      },
      "text/plain": [
       "HBox(children=(FloatProgress(value=0.0, max=300000.0), HTML(value='')))"
      ]
     },
     "metadata": {},
     "output_type": "display_data"
    },
    {
     "name": "stdout",
     "output_type": "stream",
     "text": [
      "\n",
      "Часть 2\n",
      "Всего вакансий в части: 300,000\n"
     ]
    },
    {
     "data": {
      "application/vnd.jupyter.widget-view+json": {
       "model_id": "9914bf27ec364c4a8dbcc979cfdfad45",
       "version_major": 2,
       "version_minor": 0
      },
      "text/plain": [
       "HBox(children=(FloatProgress(value=0.0, max=300000.0), HTML(value='')))"
      ]
     },
     "metadata": {},
     "output_type": "display_data"
    },
    {
     "name": "stdout",
     "output_type": "stream",
     "text": [
      "\n",
      "Часть 3\n",
      "Всего вакансий в части: 300,000\n"
     ]
    },
    {
     "data": {
      "application/vnd.jupyter.widget-view+json": {
       "model_id": "b254283f95024c2da33531d8159537bb",
       "version_major": 2,
       "version_minor": 0
      },
      "text/plain": [
       "HBox(children=(FloatProgress(value=0.0, max=300000.0), HTML(value='')))"
      ]
     },
     "metadata": {},
     "output_type": "display_data"
    },
    {
     "name": "stdout",
     "output_type": "stream",
     "text": [
      "\n",
      "Часть 4\n",
      "Всего вакансий в части: 300,000\n"
     ]
    },
    {
     "data": {
      "application/vnd.jupyter.widget-view+json": {
       "model_id": "37597238fd8440dcb15fcf21bbfbe36f",
       "version_major": 2,
       "version_minor": 0
      },
      "text/plain": [
       "HBox(children=(FloatProgress(value=0.0, max=300000.0), HTML(value='')))"
      ]
     },
     "metadata": {},
     "output_type": "display_data"
    },
    {
     "name": "stdout",
     "output_type": "stream",
     "text": [
      "\n",
      "Часть 5\n",
      "Всего вакансий в части: 300,000\n"
     ]
    },
    {
     "data": {
      "application/vnd.jupyter.widget-view+json": {
       "model_id": "b6c153ac65ec45c993f9e2d2660d0aa2",
       "version_major": 2,
       "version_minor": 0
      },
      "text/plain": [
       "HBox(children=(FloatProgress(value=0.0, max=300000.0), HTML(value='')))"
      ]
     },
     "metadata": {},
     "output_type": "display_data"
    },
    {
     "name": "stdout",
     "output_type": "stream",
     "text": [
      "\n",
      "Часть 6\n",
      "Всего вакансий в части: 300,000\n"
     ]
    },
    {
     "data": {
      "application/vnd.jupyter.widget-view+json": {
       "model_id": "a57f686fa12f4dd4a1333ebe066d9149",
       "version_major": 2,
       "version_minor": 0
      },
      "text/plain": [
       "HBox(children=(FloatProgress(value=0.0, max=300000.0), HTML(value='')))"
      ]
     },
     "metadata": {},
     "output_type": "display_data"
    },
    {
     "name": "stdout",
     "output_type": "stream",
     "text": [
      "\n",
      "Часть 7\n",
      "Всего вакансий в части: 300,000\n"
     ]
    },
    {
     "data": {
      "application/vnd.jupyter.widget-view+json": {
       "model_id": "09147f0c442d41239b19bb80ae9db210",
       "version_major": 2,
       "version_minor": 0
      },
      "text/plain": [
       "HBox(children=(FloatProgress(value=0.0, max=300000.0), HTML(value='')))"
      ]
     },
     "metadata": {},
     "output_type": "display_data"
    },
    {
     "name": "stdout",
     "output_type": "stream",
     "text": [
      "\n",
      "Часть 8\n",
      "Всего вакансий в части: 300,000\n"
     ]
    },
    {
     "data": {
      "application/vnd.jupyter.widget-view+json": {
       "model_id": "bdcca6cd06884c1fbca45c2e4e305c00",
       "version_major": 2,
       "version_minor": 0
      },
      "text/plain": [
       "HBox(children=(FloatProgress(value=0.0, max=300000.0), HTML(value='')))"
      ]
     },
     "metadata": {},
     "output_type": "display_data"
    },
    {
     "name": "stdout",
     "output_type": "stream",
     "text": [
      "\n",
      "Часть 9\n",
      "Всего вакансий в части: 300,000\n"
     ]
    },
    {
     "data": {
      "application/vnd.jupyter.widget-view+json": {
       "model_id": "e50ebf3d530b46a5b904dcfe6a3f37ec",
       "version_major": 2,
       "version_minor": 0
      },
      "text/plain": [
       "HBox(children=(FloatProgress(value=0.0, max=300000.0), HTML(value='')))"
      ]
     },
     "metadata": {},
     "output_type": "display_data"
    },
    {
     "name": "stdout",
     "output_type": "stream",
     "text": [
      "\n",
      "Часть 10\n",
      "Всего вакансий в части: 212,650\n"
     ]
    },
    {
     "data": {
      "application/vnd.jupyter.widget-view+json": {
       "model_id": "6fa8643b70fa47ba8e8e94ec7ad230dc",
       "version_major": 2,
       "version_minor": 0
      },
      "text/plain": [
       "HBox(children=(FloatProgress(value=0.0, max=212650.0), HTML(value='')))"
      ]
     },
     "metadata": {},
     "output_type": "display_data"
    },
    {
     "name": "stdout",
     "output_type": "stream",
     "text": [
      "\n",
      "Wall time: 4h 35min 4s\n"
     ]
    }
   ],
   "source": [
    "%%time\n",
    "\n",
    "#объявляем стемминг\n",
    "stemmer = SnowballStemmer('russian')\n",
    "#запускаем цикл по частям\n",
    "for part_num in range(1, 11):\n",
    "    \n",
    "    #грузим часть\n",
    "    part = read_vacancies_part(part_num)\n",
    "    print('Часть '+str(part_num))\n",
    "    print(f'Всего вакансий в части: {len(part):,d}')\n",
    "          \n",
    "    #запускаем цикл для препроцессинга текста\n",
    "    for k in tqdm(part):\n",
    "          \n",
    "        #работаем с наименованием вакансии\n",
    "        transf_name = part[k]['name']\n",
    "        #приводим все к нижнему регистру\n",
    "        transf_name = transf_name.lower()\n",
    "        #убираем знаки препинания и цифры\n",
    "        transf_name = re.sub(r\"[^a-zа-я]+\",' ', transf_name)\n",
    "        #убираем лишние пробелы\n",
    "        transf_name = transf_name.strip()\n",
    "        #делаем стемминг - получается массив\n",
    "        transf_name = [stemmer.stem(word) for word in transf_name.split(' ')]\n",
    "        #возвращаем строку из массива обратно\n",
    "        transf_name = ' '.join(map(str, transf_name))\n",
    "        #переписываем обработанное наименование вакансии\n",
    "        part[k]['name'] = transf_name\n",
    "\n",
    "        \n",
    "        #теперь работаем с описанием\n",
    "        #убираем html-теги\n",
    "        transf_desc = BeautifulSoup(part[k]['description'], \"lxml\").text\n",
    "        #приводим все к нижнему регистру\n",
    "        transf_desc = transf_desc.lower()\n",
    "        #убираем знаки препинания и цифры\n",
    "        transf_desc = re.sub(r\"[^a-zа-я]+\",' ', transf_desc)\n",
    "        #убираем лишние пробелы\n",
    "        transf_desc = transf_desc.strip()\n",
    "        #делаем стемминг - получается массив\n",
    "        transf_desc = [stemmer.stem(word) for word in transf_desc.split(' ')]        \n",
    "        #возвращаем строку из массива обратно\n",
    "        transf_desc = ' '.join(map(str, transf_desc))\n",
    "        #переписываем обработанное описание вакансии\n",
    "        part[k]['description'] = transf_desc\n",
    "        \n",
    "        \n",
    "        #работаем с ключевыми навыками вакансии\n",
    "        transf_skills = part[k]['key_skills']\n",
    "        #из массива в строку\n",
    "        transf_skills = ' '.join(map(str, transf_skills))\n",
    "        #приводим все к нижнему регистру\n",
    "        transf_skills = transf_skills.lower()\n",
    "        #убираем лишние пробелы\n",
    "        transf_skills = transf_skills.strip()\n",
    "        #делаем стемминг - получается массив\n",
    "        transf_skills = [stemmer.stem(word) for word in transf_skills.split(' ')]\n",
    "        #возвращаем строку из массива обратно\n",
    "        transf_skills = ' '.join(map(str, transf_skills))\n",
    "        part[k]['key_skills'] = transf_skills\n",
    "        \n",
    "        #решаем вопрос с зарплатой - это должен стать один признак\n",
    "        salary = part[k]['compensation_to']\n",
    "        if salary is None:\n",
    "            salary = part[k]['compensation_from']\n",
    "        if salary is None:\n",
    "            salary = 0\n",
    "        part[k]['salary'] = salary\n",
    "        #убираем лишнее\n",
    "        part[k].pop('compensation_to')\n",
    "        part[k].pop('compensation_from')\n",
    "    \n",
    "    #записываем часть, которую преобразовали в файл, дальше будем эти файлы объединять\n",
    "    pd.DataFrame(part).T.to_csv('df_stem'+str(part_num)+'.csv',sep=';')"
   ]
  },
  {
   "cell_type": "markdown",
   "metadata": {},
   "source": [
    "### объединяем обработанные части в единый датасет"
   ]
  },
  {
   "cell_type": "code",
   "execution_count": 5,
   "metadata": {
    "scrolled": true
   },
   "outputs": [
    {
     "name": "stdout",
     "output_type": "stream",
     "text": [
      "1\n",
      "2\n",
      "3\n",
      "4\n",
      "5\n",
      "6\n",
      "7\n",
      "8\n",
      "9\n",
      "10\n",
      "Wall time: 1min 38s\n"
     ]
    },
    {
     "data": {
      "text/html": [
       "<div>\n",
       "<style scoped>\n",
       "    .dataframe tbody tr th:only-of-type {\n",
       "        vertical-align: middle;\n",
       "    }\n",
       "\n",
       "    .dataframe tbody tr th {\n",
       "        vertical-align: top;\n",
       "    }\n",
       "\n",
       "    .dataframe thead th {\n",
       "        text-align: right;\n",
       "    }\n",
       "</style>\n",
       "<table border=\"1\" class=\"dataframe\">\n",
       "  <thead>\n",
       "    <tr style=\"text-align: right;\">\n",
       "      <th></th>\n",
       "      <th>vac_id</th>\n",
       "      <th>name</th>\n",
       "      <th>description</th>\n",
       "      <th>area_id</th>\n",
       "      <th>creation_date</th>\n",
       "      <th>employment</th>\n",
       "      <th>work_schedule</th>\n",
       "      <th>work_experience</th>\n",
       "      <th>currency</th>\n",
       "      <th>key_skills</th>\n",
       "      <th>employer</th>\n",
       "      <th>salary</th>\n",
       "      <th>sal_clust</th>\n",
       "    </tr>\n",
       "  </thead>\n",
       "  <tbody>\n",
       "    <tr>\n",
       "      <th>0</th>\n",
       "      <td>1</td>\n",
       "      <td>администратор торгов зал</td>\n",
       "      <td>обязан администратор торгов зал контролир техн...</td>\n",
       "      <td>26</td>\n",
       "      <td>2019-01-24</td>\n",
       "      <td>0</td>\n",
       "      <td>2</td>\n",
       "      <td>0</td>\n",
       "      <td>6</td>\n",
       "      <td>NaN</td>\n",
       "      <td>17253</td>\n",
       "      <td>24000</td>\n",
       "      <td>24</td>\n",
       "    </tr>\n",
       "    <tr>\n",
       "      <th>1</th>\n",
       "      <td>2</td>\n",
       "      <td>супервайзер команд служб поддержк пользовател</td>\n",
       "      <td>в связ с расширен в международн компан olx gro...</td>\n",
       "      <td>160</td>\n",
       "      <td>2019-07-26</td>\n",
       "      <td>0</td>\n",
       "      <td>2</td>\n",
       "      <td>0</td>\n",
       "      <td>6</td>\n",
       "      <td>NaN</td>\n",
       "      <td>250208</td>\n",
       "      <td>0</td>\n",
       "      <td>0</td>\n",
       "    </tr>\n",
       "    <tr>\n",
       "      <th>2</th>\n",
       "      <td>3</td>\n",
       "      <td>системн администратор</td>\n",
       "      <td>для обеспечен техническ поддержк объект европе...</td>\n",
       "      <td>1002</td>\n",
       "      <td>2019-04-15</td>\n",
       "      <td>3</td>\n",
       "      <td>2</td>\n",
       "      <td>0</td>\n",
       "      <td>6</td>\n",
       "      <td>NaN</td>\n",
       "      <td>24031</td>\n",
       "      <td>0</td>\n",
       "      <td>0</td>\n",
       "    </tr>\n",
       "    <tr>\n",
       "      <th>3</th>\n",
       "      <td>4</td>\n",
       "      <td>специалист по закупк</td>\n",
       "      <td>обязан организац и проведен закупок в рамк фз ...</td>\n",
       "      <td>22</td>\n",
       "      <td>2019-07-12</td>\n",
       "      <td>0</td>\n",
       "      <td>2</td>\n",
       "      <td>3</td>\n",
       "      <td>6</td>\n",
       "      <td>делов переписк заключен договор делов общен те...</td>\n",
       "      <td>304424</td>\n",
       "      <td>36000</td>\n",
       "      <td>36</td>\n",
       "    </tr>\n",
       "    <tr>\n",
       "      <th>4</th>\n",
       "      <td>5</td>\n",
       "      <td>уборщик помещен уборщиц</td>\n",
       "      <td>рестора o d i приглаша на работ уборщик помеще...</td>\n",
       "      <td>1002</td>\n",
       "      <td>2019-01-17</td>\n",
       "      <td>0</td>\n",
       "      <td>2</td>\n",
       "      <td>0</td>\n",
       "      <td>1</td>\n",
       "      <td>NaN</td>\n",
       "      <td>199788</td>\n",
       "      <td>600</td>\n",
       "      <td>0</td>\n",
       "    </tr>\n",
       "  </tbody>\n",
       "</table>\n",
       "</div>"
      ],
      "text/plain": [
       "   vac_id                                           name  \\\n",
       "0       1                       администратор торгов зал   \n",
       "1       2  супервайзер команд служб поддержк пользовател   \n",
       "2       3                          системн администратор   \n",
       "3       4                           специалист по закупк   \n",
       "4       5                        уборщик помещен уборщиц   \n",
       "\n",
       "                                         description  area_id creation_date  \\\n",
       "0  обязан администратор торгов зал контролир техн...       26    2019-01-24   \n",
       "1  в связ с расширен в международн компан olx gro...      160    2019-07-26   \n",
       "2  для обеспечен техническ поддержк объект европе...     1002    2019-04-15   \n",
       "3  обязан организац и проведен закупок в рамк фз ...       22    2019-07-12   \n",
       "4  рестора o d i приглаша на работ уборщик помеще...     1002    2019-01-17   \n",
       "\n",
       "   employment  work_schedule  work_experience  currency  \\\n",
       "0           0              2                0         6   \n",
       "1           0              2                0         6   \n",
       "2           3              2                0         6   \n",
       "3           0              2                3         6   \n",
       "4           0              2                0         1   \n",
       "\n",
       "                                          key_skills  employer  salary  \\\n",
       "0                                                NaN     17253   24000   \n",
       "1                                                NaN    250208       0   \n",
       "2                                                NaN     24031       0   \n",
       "3  делов переписк заключен договор делов общен те...    304424   36000   \n",
       "4                                                NaN    199788     600   \n",
       "\n",
       "   sal_clust  \n",
       "0         24  \n",
       "1          0  \n",
       "2          0  \n",
       "3         36  \n",
       "4          0  "
      ]
     },
     "execution_count": 5,
     "metadata": {},
     "output_type": "execute_result"
    }
   ],
   "source": [
    "%%time\n",
    "df = pd.read_csv('df_stem1.csv',sep=';') #df_part1 #df_clean_morhp1\n",
    "print(1)\n",
    "df = df.append(pd.read_csv('df_stem2.csv',sep=';')) #df_part2 #df_clean_morhp2\n",
    "print(2)\n",
    "df = df.append(pd.read_csv('df_stem3.csv',sep=';')) #df_part3 #df_clean_morhp3\n",
    "print(3)\n",
    "df = df.append(pd.read_csv('df_stem4.csv',sep=';')) #df_part4 #df_clean_morhp4\n",
    "print(4)\n",
    "df = df.append(pd.read_csv('df_stem5.csv',sep=';')) #df_part5 #df_clean_morhp5\n",
    "print(5)\n",
    "df = df.append(pd.read_csv('df_stem6.csv',sep=';')) #df_part6 #df_clean_morhp6\n",
    "print(6)\n",
    "df = df.append(pd.read_csv('df_stem7.csv',sep=';')) #df_part7 #df_clean_morhp7\n",
    "print(7)\n",
    "df = df.append(pd.read_csv('df_stem8.csv',sep=';')) #df_part8 #df_clean_morhp8\n",
    "print(8)\n",
    "df = df.append(pd.read_csv('df_stem9.csv',sep=';')) #df_part9 #df_clean_morhp9\n",
    "print(9)\n",
    "df = df.append(pd.read_csv('df_stem10.csv',sep=';')) #df_part10 #df_clean_morhp10\n",
    "print(10)\n",
    "\n",
    "df.rename(columns={'Unnamed: 0': 'vac_id'}, inplace=True) #важная колонка - ключ\n",
    "df.reset_index(inplace=True) #так как объединение, имеет смысл сбросить индекс\n",
    "del df['index'] #лишний столбец\n",
    "\n",
    "#сразу формируем категориальные признаки\n",
    "\n",
    "#зп\n",
    "df['sal_clust'] = (df['salary']/1000).astype('int64').astype('category').cat.codes\n",
    "#валюта\n",
    "df['currency'].fillna('RUR',inplace=True) #если не указано, пусть будет рубль\n",
    "df['currency'] = df['currency'].astype('category').cat.codes\n",
    "#остальные просто преобразуем в категории\n",
    "df['employer'] = df['employer'].astype('category').cat.codes\n",
    "df['employment'] = df['employment'].astype('category').cat.codes\n",
    "df['work_schedule'] = df['work_schedule'].astype('category').cat.codes\n",
    "df['work_experience'] = df['work_experience'].astype('category').cat.codes\n",
    "\n",
    "#записываем объединенный датасет файл\n",
    "df.to_csv('df_stem.csv',sep=';',index=False)\n",
    "df.head()"
   ]
  },
  {
   "cell_type": "markdown",
   "metadata": {},
   "source": [
    "# №2 Кластеризация"
   ]
  },
  {
   "cell_type": "code",
   "execution_count": 6,
   "metadata": {
    "scrolled": true
   },
   "outputs": [
    {
     "name": "stdout",
     "output_type": "stream",
     "text": [
      "Wall time: 52.6 s\n"
     ]
    },
    {
     "data": {
      "text/html": [
       "<div>\n",
       "<style scoped>\n",
       "    .dataframe tbody tr th:only-of-type {\n",
       "        vertical-align: middle;\n",
       "    }\n",
       "\n",
       "    .dataframe tbody tr th {\n",
       "        vertical-align: top;\n",
       "    }\n",
       "\n",
       "    .dataframe thead th {\n",
       "        text-align: right;\n",
       "    }\n",
       "</style>\n",
       "<table border=\"1\" class=\"dataframe\">\n",
       "  <thead>\n",
       "    <tr style=\"text-align: right;\">\n",
       "      <th></th>\n",
       "      <th>vac_id</th>\n",
       "      <th>name</th>\n",
       "      <th>description</th>\n",
       "      <th>area_id</th>\n",
       "      <th>employment</th>\n",
       "      <th>work_schedule</th>\n",
       "      <th>work_experience</th>\n",
       "      <th>currency</th>\n",
       "      <th>key_skills</th>\n",
       "      <th>employer</th>\n",
       "      <th>salary</th>\n",
       "      <th>sal_clust</th>\n",
       "      <th>date_feat</th>\n",
       "    </tr>\n",
       "  </thead>\n",
       "  <tbody>\n",
       "    <tr>\n",
       "      <th>0</th>\n",
       "      <td>1</td>\n",
       "      <td>администратор торгов зал</td>\n",
       "      <td>обязан администратор торгов зал контролир техн...</td>\n",
       "      <td>26</td>\n",
       "      <td>0</td>\n",
       "      <td>2</td>\n",
       "      <td>0</td>\n",
       "      <td>6</td>\n",
       "      <td>NaN</td>\n",
       "      <td>17253</td>\n",
       "      <td>24000</td>\n",
       "      <td>24</td>\n",
       "      <td>0</td>\n",
       "    </tr>\n",
       "    <tr>\n",
       "      <th>1</th>\n",
       "      <td>2</td>\n",
       "      <td>супервайзер команд служб поддержк пользовател</td>\n",
       "      <td>в связ с расширен в международн компан olx gro...</td>\n",
       "      <td>160</td>\n",
       "      <td>0</td>\n",
       "      <td>2</td>\n",
       "      <td>0</td>\n",
       "      <td>6</td>\n",
       "      <td>NaN</td>\n",
       "      <td>250208</td>\n",
       "      <td>0</td>\n",
       "      <td>0</td>\n",
       "      <td>6</td>\n",
       "    </tr>\n",
       "    <tr>\n",
       "      <th>2</th>\n",
       "      <td>3</td>\n",
       "      <td>системн администратор</td>\n",
       "      <td>для обеспечен техническ поддержк объект европе...</td>\n",
       "      <td>1002</td>\n",
       "      <td>3</td>\n",
       "      <td>2</td>\n",
       "      <td>0</td>\n",
       "      <td>6</td>\n",
       "      <td>NaN</td>\n",
       "      <td>24031</td>\n",
       "      <td>0</td>\n",
       "      <td>0</td>\n",
       "      <td>3</td>\n",
       "    </tr>\n",
       "    <tr>\n",
       "      <th>3</th>\n",
       "      <td>4</td>\n",
       "      <td>специалист по закупк</td>\n",
       "      <td>обязан организац и проведен закупок в рамк фз ...</td>\n",
       "      <td>22</td>\n",
       "      <td>0</td>\n",
       "      <td>2</td>\n",
       "      <td>3</td>\n",
       "      <td>6</td>\n",
       "      <td>делов переписк заключен договор делов общен те...</td>\n",
       "      <td>304424</td>\n",
       "      <td>36000</td>\n",
       "      <td>36</td>\n",
       "      <td>6</td>\n",
       "    </tr>\n",
       "    <tr>\n",
       "      <th>4</th>\n",
       "      <td>5</td>\n",
       "      <td>уборщик помещен уборщиц</td>\n",
       "      <td>рестора o d i приглаша на работ уборщик помеще...</td>\n",
       "      <td>1002</td>\n",
       "      <td>0</td>\n",
       "      <td>2</td>\n",
       "      <td>0</td>\n",
       "      <td>1</td>\n",
       "      <td>NaN</td>\n",
       "      <td>199788</td>\n",
       "      <td>600</td>\n",
       "      <td>0</td>\n",
       "      <td>0</td>\n",
       "    </tr>\n",
       "    <tr>\n",
       "      <th>5</th>\n",
       "      <td>6</td>\n",
       "      <td>ведущ инженер</td>\n",
       "      <td>обязан взаимодейств с рсо в част ответ на запр...</td>\n",
       "      <td>47</td>\n",
       "      <td>0</td>\n",
       "      <td>2</td>\n",
       "      <td>1</td>\n",
       "      <td>6</td>\n",
       "      <td>NaN</td>\n",
       "      <td>144862</td>\n",
       "      <td>40000</td>\n",
       "      <td>40</td>\n",
       "      <td>7</td>\n",
       "    </tr>\n",
       "    <tr>\n",
       "      <th>6</th>\n",
       "      <td>7</td>\n",
       "      <td>грузчик в отдел доставок</td>\n",
       "      <td>фабрик корпусн мебел примет на работ грузчик в...</td>\n",
       "      <td>4</td>\n",
       "      <td>0</td>\n",
       "      <td>2</td>\n",
       "      <td>3</td>\n",
       "      <td>6</td>\n",
       "      <td>грузчик доставк мебел</td>\n",
       "      <td>222138</td>\n",
       "      <td>22000</td>\n",
       "      <td>22</td>\n",
       "      <td>8</td>\n",
       "    </tr>\n",
       "    <tr>\n",
       "      <th>7</th>\n",
       "      <td>8</td>\n",
       "      <td>прораб фасадн работ</td>\n",
       "      <td>должностн обязан руководств бригад монтажник о...</td>\n",
       "      <td>1</td>\n",
       "      <td>0</td>\n",
       "      <td>2</td>\n",
       "      <td>1</td>\n",
       "      <td>6</td>\n",
       "      <td>NaN</td>\n",
       "      <td>283886</td>\n",
       "      <td>60000</td>\n",
       "      <td>60</td>\n",
       "      <td>5</td>\n",
       "    </tr>\n",
       "    <tr>\n",
       "      <th>8</th>\n",
       "      <td>9</td>\n",
       "      <td>автомеханик автослесар моторист</td>\n",
       "      <td>обязан ремонт и техническ обслуживан легков ав...</td>\n",
       "      <td>54</td>\n",
       "      <td>0</td>\n",
       "      <td>4</td>\n",
       "      <td>2</td>\n",
       "      <td>6</td>\n",
       "      <td>NaN</td>\n",
       "      <td>2120</td>\n",
       "      <td>70000</td>\n",
       "      <td>70</td>\n",
       "      <td>10</td>\n",
       "    </tr>\n",
       "    <tr>\n",
       "      <th>9</th>\n",
       "      <td>10</td>\n",
       "      <td>administrative assistant</td>\n",
       "      <td>responsibilities maintaining the condition of ...</td>\n",
       "      <td>152</td>\n",
       "      <td>0</td>\n",
       "      <td>2</td>\n",
       "      <td>0</td>\n",
       "      <td>6</td>\n",
       "      <td>английск язык project management ms access ms ...</td>\n",
       "      <td>188947</td>\n",
       "      <td>0</td>\n",
       "      <td>0</td>\n",
       "      <td>8</td>\n",
       "    </tr>\n",
       "  </tbody>\n",
       "</table>\n",
       "</div>"
      ],
      "text/plain": [
       "   vac_id                                           name  \\\n",
       "0       1                       администратор торгов зал   \n",
       "1       2  супервайзер команд служб поддержк пользовател   \n",
       "2       3                          системн администратор   \n",
       "3       4                           специалист по закупк   \n",
       "4       5                        уборщик помещен уборщиц   \n",
       "5       6                                  ведущ инженер   \n",
       "6       7                       грузчик в отдел доставок   \n",
       "7       8                            прораб фасадн работ   \n",
       "8       9                автомеханик автослесар моторист   \n",
       "9      10                       administrative assistant   \n",
       "\n",
       "                                         description  area_id  employment  \\\n",
       "0  обязан администратор торгов зал контролир техн...       26           0   \n",
       "1  в связ с расширен в международн компан olx gro...      160           0   \n",
       "2  для обеспечен техническ поддержк объект европе...     1002           3   \n",
       "3  обязан организац и проведен закупок в рамк фз ...       22           0   \n",
       "4  рестора o d i приглаша на работ уборщик помеще...     1002           0   \n",
       "5  обязан взаимодейств с рсо в част ответ на запр...       47           0   \n",
       "6  фабрик корпусн мебел примет на работ грузчик в...        4           0   \n",
       "7  должностн обязан руководств бригад монтажник о...        1           0   \n",
       "8  обязан ремонт и техническ обслуживан легков ав...       54           0   \n",
       "9  responsibilities maintaining the condition of ...      152           0   \n",
       "\n",
       "   work_schedule  work_experience  currency  \\\n",
       "0              2                0         6   \n",
       "1              2                0         6   \n",
       "2              2                0         6   \n",
       "3              2                3         6   \n",
       "4              2                0         1   \n",
       "5              2                1         6   \n",
       "6              2                3         6   \n",
       "7              2                1         6   \n",
       "8              4                2         6   \n",
       "9              2                0         6   \n",
       "\n",
       "                                          key_skills  employer  salary  \\\n",
       "0                                                NaN     17253   24000   \n",
       "1                                                NaN    250208       0   \n",
       "2                                                NaN     24031       0   \n",
       "3  делов переписк заключен договор делов общен те...    304424   36000   \n",
       "4                                                NaN    199788     600   \n",
       "5                                                NaN    144862   40000   \n",
       "6                              грузчик доставк мебел    222138   22000   \n",
       "7                                                NaN    283886   60000   \n",
       "8                                                NaN      2120   70000   \n",
       "9  английск язык project management ms access ms ...    188947       0   \n",
       "\n",
       "   sal_clust  date_feat  \n",
       "0         24          0  \n",
       "1          0          6  \n",
       "2          0          3  \n",
       "3         36          6  \n",
       "4          0          0  \n",
       "5         40          7  \n",
       "6         22          8  \n",
       "7         60          5  \n",
       "8         70         10  \n",
       "9          0          8  "
      ]
     },
     "execution_count": 6,
     "metadata": {},
     "output_type": "execute_result"
    }
   ],
   "source": [
    "%%time\n",
    "#читаем сохраненный ранее файл (лучше предобработку запускать отдельно из-за проблем с памятью, когда ее мало)\n",
    "df = pd.read_csv('df_stem.csv',sep=';')\n",
    "\n",
    "#выполняем преобразование, иначе в векторайзер не залезает\n",
    "df['name'] = df['name'].astype('str')\n",
    "df['description'] = df['description'].astype('str')\n",
    "df['key_skills'] = df['key_skills'].astype('str')\n",
    "\n",
    "#смотрим, что прочитали именно то, что нужно\n",
    "df.head(10)"
   ]
  },
  {
   "cell_type": "markdown",
   "metadata": {},
   "source": [
    "### № 2.1 Формируем кластеры по наименованию"
   ]
  },
  {
   "cell_type": "code",
   "execution_count": null,
   "metadata": {},
   "outputs": [],
   "source": [
    "%%time\n",
    "#tf-idf на мешок слов наименования\n",
    "vectorizer = TfidfVectorizer(min_df=2)\n",
    "matrix = vectorizer.fit_transform(df['name'])\n",
    "print(matrix.shape)\n",
    "\n",
    "#кластеризация\n",
    "minikmeans = MiniBatchKMeans(n_clusters=1800, max_iter=10, init_size=5400, batch_size=100).fit(matrix)\n",
    "#сохраняем результат кластеризации во внешний файл\n",
    "np.save('clust_name_1800',minikmeans.labels_)"
   ]
  },
  {
   "cell_type": "code",
   "execution_count": null,
   "metadata": {},
   "outputs": [],
   "source": [
    "%%time\n",
    "#tf-idf на биграммы наименования\n",
    "vectorizer = TfidfVectorizer(min_df=2, ngram_range=(2,2))\n",
    "matrix = vectorizer.fit_transform(df['name'])\n",
    "print(matrix.shape)\n",
    "\n",
    "#кластеризация\n",
    "minikmeans = MiniBatchKMeans(n_clusters=1500, max_iter=10, init_size=4500, batch_size=100).fit(matrix)\n",
    "#сохраняем результат кластеризации во внешний файл\n",
    "np.save('clust_2gram_name_1500',minikmeans.labels_)"
   ]
  },
  {
   "cell_type": "code",
   "execution_count": null,
   "metadata": {},
   "outputs": [],
   "source": [
    "%%time\n",
    "#tf-idf на триграммы наименования\n",
    "vectorizer = TfidfVectorizer(min_df=2, ngram_range=(3,3))\n",
    "matrix = vectorizer.fit_transform(df['name'])\n",
    "print(matrix.shape)\n",
    "\n",
    "#кластеризация\n",
    "minikmeans = MiniBatchKMeans(n_clusters=1800, max_iter=10, init_size=5400, batch_size=100).fit(matrix)\n",
    "#сохраняем результат кластеризации во внешний файл\n",
    "np.save('clust_3gram_name_1800',minikmeans.labels_)"
   ]
  },
  {
   "cell_type": "code",
   "execution_count": null,
   "metadata": {},
   "outputs": [],
   "source": [
    "%%time\n",
    "#count на мешок слов наименования\n",
    "vectorizer = CountVectorizer(min_df=2)\n",
    "matrix = vectorizer.fit_transform(df['name'])\n",
    "print(matrix.shape)\n",
    "\n",
    "#кластеризация\n",
    "minikmeans = MiniBatchKMeans(n_clusters=1500, max_iter=10, init_size=4500, batch_size=100).fit(matrix)\n",
    "#сохраняем результат кластеризации во внешний файл\n",
    "np.save('clust_count_name_1500',minikmeans.labels_)"
   ]
  },
  {
   "cell_type": "code",
   "execution_count": null,
   "metadata": {},
   "outputs": [],
   "source": [
    "%%time\n",
    "#count на биграммы наименования\n",
    "vectorizer = CountVectorizer(min_df=2, ngram_range=(2,2))\n",
    "matrix = vectorizer.fit_transform(df['name'])\n",
    "print(matrix.shape)\n",
    "\n",
    "#кластеризация\n",
    "minikmeans = MiniBatchKMeans(n_clusters=1500, max_iter=10, init_size=4500, batch_size=100).fit(matrix)\n",
    "#сохраняем результат кластеризации во внешний файл\n",
    "np.save('clust_count_2gram_name_1500',minikmeans.labels_)"
   ]
  },
  {
   "cell_type": "markdown",
   "metadata": {},
   "source": [
    "### №2.2 Формируем кластеры по описанию"
   ]
  },
  {
   "cell_type": "code",
   "execution_count": null,
   "metadata": {},
   "outputs": [],
   "source": [
    "%%time\n",
    "#tf-idf на мешок слов описания\n",
    "vectorizer = TfidfVectorizer(min_df=5, max_df=100000)\n",
    "matrix = vectorizer.fit_transform(df['description'])\n",
    "print(matrix.shape)\n",
    "\n",
    "#кластеризация\n",
    "minikmeans = MiniBatchKMeans(n_clusters=2000, max_iter=10, init_size=6000, batch_size=100).fit(matrix)\n",
    "#сохраняем результат кластеризации во внешний файл\n",
    "np.save('clust_description_2000',minikmeans.labels_)"
   ]
  },
  {
   "cell_type": "code",
   "execution_count": null,
   "metadata": {},
   "outputs": [],
   "source": [
    "%%time\n",
    "#tf-idf на мешок слов другой частотности описания\n",
    "vectorizer = TfidfVectorizer(min_df=5, max_df=1000)\n",
    "matrix = vectorizer.fit_transform(df['description'])\n",
    "print(matrix.shape)\n",
    "\n",
    "#кластеризация\n",
    "minikmeans = MiniBatchKMeans(n_clusters=5000, max_iter=10, init_size=15000, batch_size=100).fit(matrix)\n",
    "#сохраняем результат кластеризации во внешний файл\n",
    "np.save('clust_description_s_2000',minikmeans.labels_)"
   ]
  },
  {
   "cell_type": "code",
   "execution_count": null,
   "metadata": {},
   "outputs": [],
   "source": [
    "%%time\n",
    "#tf-idf на биграммы описания\n",
    "vectorizer = TfidfVectorizer(max_df=50000,min_df=100, ngram_range=(2,2))\n",
    "matrix = vectorizer.fit_transform(df['description'])\n",
    "print(matrix.shape)\n",
    "\n",
    "#кластеризация\n",
    "minikmeans = MiniBatchKMeans(n_clusters=2000, max_iter=10, init_size=6000, batch_size=100).fit(matrix)\n",
    "#сохраняем результат кластеризации во внешний файл\n",
    "np.save('clust_2gramm_description_2000',minikmeans.labels_)"
   ]
  },
  {
   "cell_type": "code",
   "execution_count": null,
   "metadata": {},
   "outputs": [],
   "source": [
    "%%time\n",
    "#tf-idf на триграммы описания\n",
    "vectorizer = TfidfVectorizer(max_df=50000,min_df=100, ngram_range=(3,3))\n",
    "matrix = vectorizer.fit_transform(df['description'])\n",
    "print(matrix.shape)\n",
    "#кластеризация\n",
    "minikmeans = MiniBatchKMeans(n_clusters=2000, max_iter=10, init_size=6000, batch_size=100).fit(matrix)\n",
    "#сохраняем результат кластеризации во внешний файл\n",
    "np.save('clust_3gramm_description_2000',minikmeans.labels_)"
   ]
  },
  {
   "cell_type": "code",
   "execution_count": null,
   "metadata": {},
   "outputs": [],
   "source": [
    "%%time\n",
    "#tf-idf на мешок слов и биграммы описания совместно\n",
    "vectorizer = TfidfVectorizer(max_df=50000,min_df=100, ngram_range=(1,2))\n",
    "matrix = vectorizer.fit_transform(df['description'])\n",
    "print(matrix.shape)\n",
    "\n",
    "#кластеризация\n",
    "minikmeans = MiniBatchKMeans(n_clusters=2400, max_iter=10, init_size=9600, batch_size=100).fit(matrix)\n",
    "#сохраняем результат кластеризации во внешний файл\n",
    "np.save('clust_both_description_2400',minikmeans.labels_)"
   ]
  },
  {
   "cell_type": "markdown",
   "metadata": {},
   "source": [
    "### №2.3 Формируем кластеры по ключевым навыкам"
   ]
  },
  {
   "cell_type": "code",
   "execution_count": null,
   "metadata": {},
   "outputs": [],
   "source": [
    "%%time\n",
    "#tf-idf на мешок слов ключевых навыков\n",
    "vectorizer = TfidfVectorizer(min_df=2)\n",
    "matrix = vectorizer.fit_transform(df['key_skills'])\n",
    "print(matrix.shape)\n",
    "\n",
    "#кластеризация\n",
    "minikmeans = MiniBatchKMeans(n_clusters=2000, max_iter=10, init_size=6000, batch_size=100).fit(matrix)\n",
    "#сохраняем результат кластеризации во внешний файл\n",
    "np.save('clust_skills_2000',minikmeans.labels_)"
   ]
  },
  {
   "cell_type": "markdown",
   "metadata": {},
   "source": [
    "# №3 Обучение"
   ]
  },
  {
   "cell_type": "code",
   "execution_count": 49,
   "metadata": {},
   "outputs": [
    {
     "name": "stdout",
     "output_type": "stream",
     "text": [
      "Wall time: 37.9 s\n"
     ]
    }
   ],
   "source": [
    "%%time\n",
    "#снова читаем сохраненный ранее файл (лучше обучение запускать отдельно из-за проблем с памятью, когда ее мало)\n",
    "df = pd.read_csv('df_stem.csv',sep=';'\n",
    "                 , usecols=['vac_id'\n",
    "                           ,'employer','employment','area_id'\n",
    "                           ,'work_experience','work_schedule','currency','sal_clust'\n",
    "                           ,'creation_date']\n",
    "                 , parse_dates=['creation_date'])\n",
    "\n",
    "#дата подачи вакансии еще один категориальный признак, месяц подачи вакансии - пытаемся поймать сезонность\n",
    "df['date_feat'] = df['creation_date'].dt.strftime('%Y-%m')\n",
    "df['date_feat'] = df['date_feat'].astype('category').cat.codes\n",
    "del df['creation_date']\n",
    "\n",
    "#кластеры по наименованию\n",
    "df['clust_name'] = np.load('clust_name_1800.npy')\n",
    "df['clust_2gram_name'] = np.load('clust_2gram_name_1500.npy')\n",
    "df['clust_3gram_name'] = np.load('clust_3gram_name_1800.npy')\n",
    "df['clust_count_name'] = np.load('clust_count_name_1500.npy')\n",
    "df['clust_count_2gram_name'] = np.load('clust_count_2gram_name_1500.npy')\n",
    "\n",
    "#кластеры по описанию\n",
    "df['clust_description'] = np.load('clust_description_2000.npy')\n",
    "df['clust_description_s'] = np.load('clust_description_s_2000.npy')\n",
    "df['clust_2gramm_description'] = np.load('clust_2gramm_description_2000.npy')\n",
    "df['clust_3gramm_description'] = np.load('clust_3gramm_description_2000.npy')\n",
    "df['clust_both_description'] = np.load('clust_both_description_2400.npy')\n",
    "\n",
    "#кластер по ключевым навыкам\n",
    "df['clust_skills'] = np.load('clust_skills_2000.npy')\n",
    "\n",
    "#теперь грузим ответы\n",
    "df_ts = pd.read_csv('train_labels.csv.gz', compression='gzip')\n",
    "df_ts['spec'] = df_ts['specializations'].apply(lambda x: list(map(int, x[1:-1].split(','))))\n",
    "del df_ts['specializations']\n",
    "#добавляем ответы, формируя окончательный датасет\n",
    "df = df.merge(df_ts,left_on='vac_id',right_on='vacancy_id',how='left')\n",
    "del df['vacancy_id']\n",
    "\n",
    "#список для обучения, весь список - категориальные переменные\n",
    "cat_cols = ['employer','employment','area_id','work_experience','work_schedule','currency','sal_clust','date_feat'\n",
    "           ,'clust_name','clust_2gram_name','clust_3gram_name','clust_count_name','clust_count_2gram_name' \n",
    "           ,'clust_description','clust_description_s','clust_2gramm_description','clust_3gramm_description','clust_both_description'\n",
    "           ,'clust_skills'\n",
    "           ]\n",
    "\n",
    "#создаем набор для обучения\n",
    "mlb = MultiLabelBinarizer()\n",
    "df_train = df[~df['spec'].isna()]\n",
    "mlb.fit(df_train['spec'])\n",
    "y_train = mlb.transform(df_train['spec'])\n",
    "X_train = df_train[cat_cols]\n",
    "\n",
    "#набор для предсказания\n",
    "df_test = df[df['spec'].isna()]\n",
    "X_test = df_test[cat_cols]"
   ]
  },
  {
   "cell_type": "markdown",
   "metadata": {},
   "source": [
    "### для обучения используем CatBoost"
   ]
  },
  {
   "cell_type": "code",
   "execution_count": 47,
   "metadata": {},
   "outputs": [
    {
     "data": {
      "application/vnd.jupyter.widget-view+json": {
       "model_id": "8b612c7df15e4eccadc082585f1cda87",
       "version_major": 2,
       "version_minor": 0
      },
      "text/plain": [
       "HBox(children=(FloatProgress(value=0.0, max=10.0), HTML(value='')))"
      ]
     },
     "metadata": {},
     "output_type": "display_data"
    },
    {
     "name": "stdout",
     "output_type": "stream",
     "text": [
      "42\n",
      "0:\tlearn: 0.0872387\ttotal: 101ms\tremaining: 30.3s\n",
      "50:\tlearn: 0.8418131\ttotal: 4.62s\tremaining: 22.5s\n",
      "100:\tlearn: 0.8497347\ttotal: 9.3s\tremaining: 18.3s\n",
      "150:\tlearn: 0.8515701\ttotal: 14.1s\tremaining: 13.9s\n",
      "200:\tlearn: 0.8530386\ttotal: 18.9s\tremaining: 9.31s\n",
      "250:\tlearn: 0.8540687\ttotal: 23.7s\tremaining: 4.63s\n",
      "299:\tlearn: 0.8549167\ttotal: 28.4s\tremaining: 0us\n",
      "{'employer': 5.381160175743924, 'employment': 0.10162060943521875, 'area_id': 0.34877578205792353, 'work_experience': 1.3880916152705023, 'work_schedule': 0.7931734936922054, 'currency': 0.29210283880079124, 'sal_clust': 0.26042547961931467, 'date_feat': 0.18070855966121124, 'clust_name': 9.406070635554087, 'clust_2gram_name': 0.697869925205182, 'clust_3gram_name': 0.7014475399546076, 'clust_count_name': 58.580280148669736, 'clust_count_2gram_name': 0.6727102959902191, 'clust_description': 6.888706024354501, 'clust_description_s': 3.7709706372309437, 'clust_2gramm_description': 3.0600582221709085, 'clust_3gramm_description': 0.9056779601061614, 'clust_both_description': 3.5729781487566012, 'clust_skills': 2.997171907725946}\n",
      "\n"
     ]
    }
   ],
   "source": [
    "#создаем классификатор\n",
    "cb = catboost.CatBoostClassifier(cat_features=cat_cols,iterations=300,eta=0.1,task_type='GPU'\n",
    "                                 ,eval_metric='F1')\n",
    "\n",
    "#посколько обучение идет долго, учим по 10 моделей, потом сохраняем их в файл, далее будем собирать\n",
    "for n in range(10,621,10):\n",
    "    y_result = []\n",
    "    for i in tqdm(range(n-10,n)):\n",
    "        \n",
    "        #специализации, где совсем мало объектов не используем в обучении\n",
    "        a = y_train[:,i]\n",
    "        if len(a[a==1])<10:\n",
    "            y_result.append(np.array([0]*1456325).astype('float16'))\n",
    "            continue\n",
    "        \n",
    "        #собираем мусор\n",
    "        gc.collect()\n",
    "        \n",
    "        #тренируем модель по текущей специализации\n",
    "        print(i)\n",
    "        cb.fit(X_train,y_train[:,i],verbose=50)\n",
    "        \n",
    "        #предсказываем массив с вероятностями\n",
    "        y_result.append(np.round(cb.predict(X_test,prediction_type='Probability')[:,1],3).astype('float16'))      \n",
    "        \n",
    "        #при обучении смотрим, какие фичи работают для какой специализации\n",
    "        ii=0\n",
    "        imp = {}\n",
    "        for nm in cb.feature_names_:\n",
    "            imp[nm] = cb.feature_importances_[ii]\n",
    "            ii+=1\n",
    "        print(imp)\n",
    "        print('')\n",
    "    \n",
    "    #сохраняем обученный десяток моделей\n",
    "    np.save('y_result'+str(n),np.array(y_result))"
   ]
  },
  {
   "cell_type": "markdown",
   "metadata": {},
   "source": [
    "### собираем части в единый результат"
   ]
  },
  {
   "cell_type": "code",
   "execution_count": null,
   "metadata": {},
   "outputs": [],
   "source": [
    "y_result_load = np.load('y_result'+str(10)+'.npy')\n",
    "for n in range(20,621,10):\n",
    "    fn = 'y_result'+str(n)+'.npy'\n",
    "    y_result_load = np.vstack((y_result_load,np.load(fn))).astype('float16')\n",
    "    print(fn)\n",
    "np.save('y_result_final',y_result_load)\n",
    "y_result_load.shape"
   ]
  },
  {
   "cell_type": "markdown",
   "metadata": {},
   "source": [
    "### по подобранному порогу отбираем вакансии"
   ]
  },
  {
   "cell_type": "code",
   "execution_count": 68,
   "metadata": {},
   "outputs": [
    {
     "data": {
      "application/vnd.jupyter.widget-view+json": {
       "model_id": "296628a1c1914cf7b5128d7309ea4d66",
       "version_major": 2,
       "version_minor": 0
      },
      "text/plain": [
       "HBox(children=(FloatProgress(value=0.0, max=1456325.0), HTML(value='')))"
      ]
     },
     "metadata": {},
     "output_type": "display_data"
    },
    {
     "name": "stdout",
     "output_type": "stream",
     "text": [
      "\n"
     ]
    },
    {
     "data": {
      "application/vnd.jupyter.widget-view+json": {
       "model_id": "7680bfbc75984413b89a1ec8fa70983d",
       "version_major": 2,
       "version_minor": 0
      },
      "text/plain": [
       "HBox(children=(FloatProgress(value=0.0, max=1456325.0), HTML(value='')))"
      ]
     },
     "metadata": {},
     "output_type": "display_data"
    },
    {
     "name": "stdout",
     "output_type": "stream",
     "text": [
      "\n",
      "1456325\n",
      "Wall time: 2min 59s\n"
     ]
    }
   ],
   "source": [
    "%%time\n",
    "gc.collect()\n",
    "y_result = np.load('y_result_final.npy')\n",
    "\n",
    "for i in tqdm(range(0,y_result.shape[1])):\n",
    "\n",
    "    dd=0.31\n",
    "    cury = y_result[:,i]\n",
    "    qty = len(cury[cury>dd])\n",
    "        \n",
    "    while ((qty<=0)|(qty>6)):\n",
    "        if qty<=0:\n",
    "            if dd>0.05:\n",
    "                dd -= 0.005\n",
    "            else:\n",
    "                dd -= 0.001\n",
    "        if qty>6:\n",
    "            dd += 0.005\n",
    "        qty = len(cury[cury>dd])\n",
    "    cury[cury>dd] = 1\n",
    "    cury[cury<=dd] = 0\n",
    "\n",
    "#формируем список определенных специализаций\n",
    "d = y_result.T*mlb.classes_\n",
    "\n",
    "#формируем строки предсказаний в словарь (так быстрее всего получилось)\n",
    "y_pred = {}\n",
    "for k in tqdm(range(0,d.shape[0])):\n",
    "    ddd = d[k]\n",
    "    y_pred[df_test.iloc[k,0]] = np.array2string(ddd[ddd>0].astype('int'),separator=',')\n",
    "print(len(y_pred))\n",
    "\n",
    "#из словаря формируем окончательный предсказанный датасет\n",
    "df_fin = pd.DataFrame(y_pred,index=[0]).T\n",
    "#записываем датасет в файл\n",
    "df_fin.reset_index().rename(columns={'index':'vacancy_id',0:'specializations'}).to_csv('submisson.csv',sep=',',index=False)"
   ]
  }
 ],
 "metadata": {
  "kernelspec": {
   "display_name": "Python 3",
   "language": "python",
   "name": "python3"
  },
  "language_info": {
   "codemirror_mode": {
    "name": "ipython",
    "version": 3
   },
   "file_extension": ".py",
   "mimetype": "text/x-python",
   "name": "python",
   "nbconvert_exporter": "python",
   "pygments_lexer": "ipython3",
   "version": "3.7.6"
  }
 },
 "nbformat": 4,
 "nbformat_minor": 4
}
